{
 "cells": [
  {
   "cell_type": "code",
   "execution_count": 1,
   "id": "e42d1d70",
   "metadata": {},
   "outputs": [],
   "source": [
    "import pandas as pd\n",
    "import numpy as np"
   ]
  },
  {
   "cell_type": "code",
   "execution_count": 2,
   "id": "ef82bb2f",
   "metadata": {},
   "outputs": [],
   "source": [
    "# import DataFrame\n",
    "\n",
    "bank_df = pd.read_csv(r\"C:\\Users\\Avniiii\\Data_Analytics_class\\datasets\\bank_customer.csv\")"
   ]
  },
  {
   "cell_type": "code",
   "execution_count": 3,
   "id": "1212d905",
   "metadata": {},
   "outputs": [
    {
     "data": {
      "text/html": [
       "<div>\n",
       "<style scoped>\n",
       "    .dataframe tbody tr th:only-of-type {\n",
       "        vertical-align: middle;\n",
       "    }\n",
       "\n",
       "    .dataframe tbody tr th {\n",
       "        vertical-align: top;\n",
       "    }\n",
       "\n",
       "    .dataframe thead th {\n",
       "        text-align: right;\n",
       "    }\n",
       "</style>\n",
       "<table border=\"1\" class=\"dataframe\">\n",
       "  <thead>\n",
       "    <tr style=\"text-align: right;\">\n",
       "      <th></th>\n",
       "      <th>Customer ID</th>\n",
       "      <th>Name</th>\n",
       "      <th>Surname</th>\n",
       "      <th>Gender</th>\n",
       "      <th>Age</th>\n",
       "      <th>Region</th>\n",
       "      <th>Job Classification</th>\n",
       "      <th>Date Joined</th>\n",
       "      <th>Balance</th>\n",
       "    </tr>\n",
       "  </thead>\n",
       "  <tbody>\n",
       "    <tr>\n",
       "      <th>0</th>\n",
       "      <td>100000001</td>\n",
       "      <td>Simon</td>\n",
       "      <td>Walsh</td>\n",
       "      <td>Male</td>\n",
       "      <td>21</td>\n",
       "      <td>England</td>\n",
       "      <td>White Collar</td>\n",
       "      <td>05.Jan.15</td>\n",
       "      <td>113810.15</td>\n",
       "    </tr>\n",
       "    <tr>\n",
       "      <th>1</th>\n",
       "      <td>400000002</td>\n",
       "      <td>Jasmine</td>\n",
       "      <td>Miller</td>\n",
       "      <td>Female</td>\n",
       "      <td>34</td>\n",
       "      <td>Northern Ireland</td>\n",
       "      <td>Blue Collar</td>\n",
       "      <td>06.Jan.15</td>\n",
       "      <td>36919.73</td>\n",
       "    </tr>\n",
       "    <tr>\n",
       "      <th>2</th>\n",
       "      <td>100000003</td>\n",
       "      <td>Liam</td>\n",
       "      <td>Brown</td>\n",
       "      <td>Male</td>\n",
       "      <td>46</td>\n",
       "      <td>England</td>\n",
       "      <td>White Collar</td>\n",
       "      <td>07.Jan.15</td>\n",
       "      <td>101536.83</td>\n",
       "    </tr>\n",
       "    <tr>\n",
       "      <th>3</th>\n",
       "      <td>300000004</td>\n",
       "      <td>Trevor</td>\n",
       "      <td>Parr</td>\n",
       "      <td>Male</td>\n",
       "      <td>32</td>\n",
       "      <td>Wales</td>\n",
       "      <td>White Collar</td>\n",
       "      <td>08.Jan.15</td>\n",
       "      <td>1421.52</td>\n",
       "    </tr>\n",
       "    <tr>\n",
       "      <th>4</th>\n",
       "      <td>100000005</td>\n",
       "      <td>Deirdre</td>\n",
       "      <td>Pullman</td>\n",
       "      <td>Female</td>\n",
       "      <td>38</td>\n",
       "      <td>England</td>\n",
       "      <td>Blue Collar</td>\n",
       "      <td>09.Jan.15</td>\n",
       "      <td>35639.79</td>\n",
       "    </tr>\n",
       "  </tbody>\n",
       "</table>\n",
       "</div>"
      ],
      "text/plain": [
       "   Customer ID     Name  Surname  Gender  Age            Region  \\\n",
       "0    100000001    Simon    Walsh    Male   21           England   \n",
       "1    400000002  Jasmine   Miller  Female   34  Northern Ireland   \n",
       "2    100000003     Liam    Brown    Male   46           England   \n",
       "3    300000004   Trevor     Parr    Male   32             Wales   \n",
       "4    100000005  Deirdre  Pullman  Female   38           England   \n",
       "\n",
       "  Job Classification Date Joined    Balance  \n",
       "0       White Collar   05.Jan.15  113810.15  \n",
       "1        Blue Collar   06.Jan.15   36919.73  \n",
       "2       White Collar   07.Jan.15  101536.83  \n",
       "3       White Collar   08.Jan.15    1421.52  \n",
       "4        Blue Collar   09.Jan.15   35639.79  "
      ]
     },
     "execution_count": 3,
     "metadata": {},
     "output_type": "execute_result"
    }
   ],
   "source": [
    "bank_df.head()"
   ]
  },
  {
   "cell_type": "code",
   "execution_count": 4,
   "id": "5e69792c",
   "metadata": {},
   "outputs": [
    {
     "data": {
      "text/plain": [
       "Customer ID           0\n",
       "Name                  0\n",
       "Surname               0\n",
       "Gender                0\n",
       "Age                   0\n",
       "Region                0\n",
       "Job Classification    0\n",
       "Date Joined           0\n",
       "Balance               0\n",
       "dtype: int64"
      ]
     },
     "execution_count": 4,
     "metadata": {},
     "output_type": "execute_result"
    }
   ],
   "source": [
    "bank_df.isnull().sum()"
   ]
  },
  {
   "cell_type": "code",
   "execution_count": 5,
   "id": "c8427195",
   "metadata": {},
   "outputs": [
    {
     "data": {
      "text/plain": [
       "(4014, 9)"
      ]
     },
     "execution_count": 5,
     "metadata": {},
     "output_type": "execute_result"
    }
   ],
   "source": [
    "bank_df.shape"
   ]
  },
  {
   "cell_type": "code",
   "execution_count": 6,
   "id": "68ad9a78",
   "metadata": {},
   "outputs": [
    {
     "data": {
      "text/html": [
       "<div>\n",
       "<style scoped>\n",
       "    .dataframe tbody tr th:only-of-type {\n",
       "        vertical-align: middle;\n",
       "    }\n",
       "\n",
       "    .dataframe tbody tr th {\n",
       "        vertical-align: top;\n",
       "    }\n",
       "\n",
       "    .dataframe thead th {\n",
       "        text-align: right;\n",
       "    }\n",
       "</style>\n",
       "<table border=\"1\" class=\"dataframe\">\n",
       "  <thead>\n",
       "    <tr style=\"text-align: right;\">\n",
       "      <th></th>\n",
       "      <th>Customer ID</th>\n",
       "      <th>Age</th>\n",
       "      <th>Balance</th>\n",
       "    </tr>\n",
       "  </thead>\n",
       "  <tbody>\n",
       "    <tr>\n",
       "      <th>count</th>\n",
       "      <td>4.014000e+03</td>\n",
       "      <td>4014.000000</td>\n",
       "      <td>4014.000000</td>\n",
       "    </tr>\n",
       "    <tr>\n",
       "      <th>mean</th>\n",
       "      <td>1.696831e+08</td>\n",
       "      <td>38.611111</td>\n",
       "      <td>39766.448274</td>\n",
       "    </tr>\n",
       "    <tr>\n",
       "      <th>std</th>\n",
       "      <td>8.865374e+07</td>\n",
       "      <td>9.819121</td>\n",
       "      <td>29859.489192</td>\n",
       "    </tr>\n",
       "    <tr>\n",
       "      <th>min</th>\n",
       "      <td>1.000000e+08</td>\n",
       "      <td>15.000000</td>\n",
       "      <td>11.520000</td>\n",
       "    </tr>\n",
       "    <tr>\n",
       "      <th>25%</th>\n",
       "      <td>1.000020e+08</td>\n",
       "      <td>31.000000</td>\n",
       "      <td>16115.367500</td>\n",
       "    </tr>\n",
       "    <tr>\n",
       "      <th>50%</th>\n",
       "      <td>1.000038e+08</td>\n",
       "      <td>37.000000</td>\n",
       "      <td>33567.330000</td>\n",
       "    </tr>\n",
       "    <tr>\n",
       "      <th>75%</th>\n",
       "      <td>2.000031e+08</td>\n",
       "      <td>45.000000</td>\n",
       "      <td>57533.930000</td>\n",
       "    </tr>\n",
       "    <tr>\n",
       "      <th>max</th>\n",
       "      <td>4.000038e+08</td>\n",
       "      <td>64.000000</td>\n",
       "      <td>183467.700000</td>\n",
       "    </tr>\n",
       "  </tbody>\n",
       "</table>\n",
       "</div>"
      ],
      "text/plain": [
       "        Customer ID          Age        Balance\n",
       "count  4.014000e+03  4014.000000    4014.000000\n",
       "mean   1.696831e+08    38.611111   39766.448274\n",
       "std    8.865374e+07     9.819121   29859.489192\n",
       "min    1.000000e+08    15.000000      11.520000\n",
       "25%    1.000020e+08    31.000000   16115.367500\n",
       "50%    1.000038e+08    37.000000   33567.330000\n",
       "75%    2.000031e+08    45.000000   57533.930000\n",
       "max    4.000038e+08    64.000000  183467.700000"
      ]
     },
     "execution_count": 6,
     "metadata": {},
     "output_type": "execute_result"
    }
   ],
   "source": [
    "bank_df.describe()"
   ]
  },
  {
   "cell_type": "code",
   "execution_count": 7,
   "id": "0239be52",
   "metadata": {},
   "outputs": [
    {
     "data": {
      "text/plain": [
       "Index(['Customer ID', 'Name', 'Surname', 'Gender', 'Age', 'Region',\n",
       "       'Job Classification', 'Date Joined', 'Balance'],\n",
       "      dtype='object')"
      ]
     },
     "execution_count": 7,
     "metadata": {},
     "output_type": "execute_result"
    }
   ],
   "source": [
    "bank_df.columns"
   ]
  },
  {
   "cell_type": "code",
   "execution_count": 8,
   "id": "ae2ef00c",
   "metadata": {},
   "outputs": [
    {
     "data": {
      "text/html": [
       "<div>\n",
       "<style scoped>\n",
       "    .dataframe tbody tr th:only-of-type {\n",
       "        vertical-align: middle;\n",
       "    }\n",
       "\n",
       "    .dataframe tbody tr th {\n",
       "        vertical-align: top;\n",
       "    }\n",
       "\n",
       "    .dataframe thead th {\n",
       "        text-align: right;\n",
       "    }\n",
       "</style>\n",
       "<table border=\"1\" class=\"dataframe\">\n",
       "  <thead>\n",
       "    <tr style=\"text-align: right;\">\n",
       "      <th></th>\n",
       "      <th>Customer ID</th>\n",
       "    </tr>\n",
       "  </thead>\n",
       "  <tbody>\n",
       "    <tr>\n",
       "      <th>0</th>\n",
       "      <td>100000001</td>\n",
       "    </tr>\n",
       "    <tr>\n",
       "      <th>2</th>\n",
       "      <td>100000003</td>\n",
       "    </tr>\n",
       "    <tr>\n",
       "      <th>3</th>\n",
       "      <td>300000004</td>\n",
       "    </tr>\n",
       "    <tr>\n",
       "      <th>8</th>\n",
       "      <td>300000009</td>\n",
       "    </tr>\n",
       "    <tr>\n",
       "      <th>9</th>\n",
       "      <td>100000010</td>\n",
       "    </tr>\n",
       "    <tr>\n",
       "      <th>...</th>\n",
       "      <td>...</td>\n",
       "    </tr>\n",
       "    <tr>\n",
       "      <th>3999</th>\n",
       "      <td>300004000</td>\n",
       "    </tr>\n",
       "    <tr>\n",
       "      <th>4000</th>\n",
       "      <td>300004001</td>\n",
       "    </tr>\n",
       "    <tr>\n",
       "      <th>4001</th>\n",
       "      <td>300004002</td>\n",
       "    </tr>\n",
       "    <tr>\n",
       "      <th>4002</th>\n",
       "      <td>100004003</td>\n",
       "    </tr>\n",
       "    <tr>\n",
       "      <th>4004</th>\n",
       "      <td>100004005</td>\n",
       "    </tr>\n",
       "  </tbody>\n",
       "</table>\n",
       "<p>1955 rows × 1 columns</p>\n",
       "</div>"
      ],
      "text/plain": [
       "      Customer ID\n",
       "0       100000001\n",
       "2       100000003\n",
       "3       300000004\n",
       "8       300000009\n",
       "9       100000010\n",
       "...           ...\n",
       "3999    300004000\n",
       "4000    300004001\n",
       "4001    300004002\n",
       "4002    100004003\n",
       "4004    100004005\n",
       "\n",
       "[1955 rows x 1 columns]"
      ]
     },
     "execution_count": 8,
     "metadata": {},
     "output_type": "execute_result"
    }
   ],
   "source": [
    "# Get Customer Ids Who Have White Collor Job\n",
    "\n",
    "bank_df.loc[bank_df['Job Classification']=='White Collar',['Customer ID']]"
   ]
  },
  {
   "cell_type": "code",
   "execution_count": 9,
   "id": "b94b575b",
   "metadata": {},
   "outputs": [
    {
     "data": {
      "text/html": [
       "<div>\n",
       "<style scoped>\n",
       "    .dataframe tbody tr th:only-of-type {\n",
       "        vertical-align: middle;\n",
       "    }\n",
       "\n",
       "    .dataframe tbody tr th {\n",
       "        vertical-align: top;\n",
       "    }\n",
       "\n",
       "    .dataframe thead th {\n",
       "        text-align: right;\n",
       "    }\n",
       "</style>\n",
       "<table border=\"1\" class=\"dataframe\">\n",
       "  <thead>\n",
       "    <tr style=\"text-align: right;\">\n",
       "      <th></th>\n",
       "      <th>Name</th>\n",
       "      <th>Surname</th>\n",
       "    </tr>\n",
       "  </thead>\n",
       "  <tbody>\n",
       "    <tr>\n",
       "      <th>81</th>\n",
       "      <td>Neil</td>\n",
       "      <td>Robertson</td>\n",
       "    </tr>\n",
       "    <tr>\n",
       "      <th>131</th>\n",
       "      <td>James</td>\n",
       "      <td>Marshall</td>\n",
       "    </tr>\n",
       "    <tr>\n",
       "      <th>339</th>\n",
       "      <td>Rebecca</td>\n",
       "      <td>Nash</td>\n",
       "    </tr>\n",
       "    <tr>\n",
       "      <th>466</th>\n",
       "      <td>Angela</td>\n",
       "      <td>Morrison</td>\n",
       "    </tr>\n",
       "    <tr>\n",
       "      <th>512</th>\n",
       "      <td>Amy</td>\n",
       "      <td>Wilkins</td>\n",
       "    </tr>\n",
       "    <tr>\n",
       "      <th>574</th>\n",
       "      <td>Michael</td>\n",
       "      <td>Davidson</td>\n",
       "    </tr>\n",
       "    <tr>\n",
       "      <th>737</th>\n",
       "      <td>Natalie</td>\n",
       "      <td>Tucker</td>\n",
       "    </tr>\n",
       "    <tr>\n",
       "      <th>1756</th>\n",
       "      <td>Cameron</td>\n",
       "      <td>Arnold</td>\n",
       "    </tr>\n",
       "    <tr>\n",
       "      <th>2197</th>\n",
       "      <td>Molly</td>\n",
       "      <td>Fisher</td>\n",
       "    </tr>\n",
       "    <tr>\n",
       "      <th>2233</th>\n",
       "      <td>Heather</td>\n",
       "      <td>Hughes</td>\n",
       "    </tr>\n",
       "    <tr>\n",
       "      <th>2313</th>\n",
       "      <td>Hannah</td>\n",
       "      <td>Hill</td>\n",
       "    </tr>\n",
       "    <tr>\n",
       "      <th>2481</th>\n",
       "      <td>Yvonne</td>\n",
       "      <td>Poole</td>\n",
       "    </tr>\n",
       "    <tr>\n",
       "      <th>2520</th>\n",
       "      <td>Penelope</td>\n",
       "      <td>Parsons</td>\n",
       "    </tr>\n",
       "    <tr>\n",
       "      <th>2781</th>\n",
       "      <td>Nicholas</td>\n",
       "      <td>Buckland</td>\n",
       "    </tr>\n",
       "    <tr>\n",
       "      <th>3369</th>\n",
       "      <td>Jessica</td>\n",
       "      <td>Lyman</td>\n",
       "    </tr>\n",
       "    <tr>\n",
       "      <th>3379</th>\n",
       "      <td>Victor</td>\n",
       "      <td>Cameron</td>\n",
       "    </tr>\n",
       "    <tr>\n",
       "      <th>3470</th>\n",
       "      <td>Wendy</td>\n",
       "      <td>Martin</td>\n",
       "    </tr>\n",
       "    <tr>\n",
       "      <th>3556</th>\n",
       "      <td>John</td>\n",
       "      <td>Mackenzie</td>\n",
       "    </tr>\n",
       "    <tr>\n",
       "      <th>3660</th>\n",
       "      <td>Keith</td>\n",
       "      <td>Reid</td>\n",
       "    </tr>\n",
       "    <tr>\n",
       "      <th>3892</th>\n",
       "      <td>Lisa</td>\n",
       "      <td>Terry</td>\n",
       "    </tr>\n",
       "  </tbody>\n",
       "</table>\n",
       "</div>"
      ],
      "text/plain": [
       "          Name    Surname\n",
       "81        Neil  Robertson\n",
       "131      James   Marshall\n",
       "339    Rebecca       Nash\n",
       "466     Angela   Morrison\n",
       "512        Amy    Wilkins\n",
       "574    Michael   Davidson\n",
       "737    Natalie     Tucker\n",
       "1756   Cameron     Arnold\n",
       "2197     Molly     Fisher\n",
       "2233   Heather     Hughes\n",
       "2313    Hannah       Hill\n",
       "2481    Yvonne      Poole\n",
       "2520  Penelope    Parsons\n",
       "2781  Nicholas   Buckland\n",
       "3369   Jessica      Lyman\n",
       "3379    Victor    Cameron\n",
       "3470     Wendy     Martin\n",
       "3556      John  Mackenzie\n",
       "3660     Keith       Reid\n",
       "3892      Lisa      Terry"
      ]
     },
     "execution_count": 9,
     "metadata": {},
     "output_type": "execute_result"
    }
   ],
   "source": [
    "# Full Name those 20 yr old customers\n",
    "\n",
    "bank_df.loc[bank_df['Age']==20,['Name','Surname']]"
   ]
  },
  {
   "cell_type": "code",
   "execution_count": 10,
   "id": "5965bf0c",
   "metadata": {},
   "outputs": [
    {
     "data": {
      "text/html": [
       "<div>\n",
       "<style scoped>\n",
       "    .dataframe tbody tr th:only-of-type {\n",
       "        vertical-align: middle;\n",
       "    }\n",
       "\n",
       "    .dataframe tbody tr th {\n",
       "        vertical-align: top;\n",
       "    }\n",
       "\n",
       "    .dataframe thead th {\n",
       "        text-align: right;\n",
       "    }\n",
       "</style>\n",
       "<table border=\"1\" class=\"dataframe\">\n",
       "  <thead>\n",
       "    <tr style=\"text-align: right;\">\n",
       "      <th></th>\n",
       "      <th></th>\n",
       "      <th>Customer ID</th>\n",
       "      <th>Name</th>\n",
       "      <th>Surname</th>\n",
       "      <th>Age</th>\n",
       "      <th>Job Classification</th>\n",
       "      <th>Date Joined</th>\n",
       "      <th>Balance</th>\n",
       "    </tr>\n",
       "    <tr>\n",
       "      <th>Region</th>\n",
       "      <th>Gender</th>\n",
       "      <th></th>\n",
       "      <th></th>\n",
       "      <th></th>\n",
       "      <th></th>\n",
       "      <th></th>\n",
       "      <th></th>\n",
       "      <th></th>\n",
       "    </tr>\n",
       "  </thead>\n",
       "  <tbody>\n",
       "    <tr>\n",
       "      <th rowspan=\"2\" valign=\"top\">England</th>\n",
       "      <th>Female</th>\n",
       "      <td>1091</td>\n",
       "      <td>1091</td>\n",
       "      <td>1091</td>\n",
       "      <td>1091</td>\n",
       "      <td>1091</td>\n",
       "      <td>1091</td>\n",
       "      <td>1091</td>\n",
       "    </tr>\n",
       "    <tr>\n",
       "      <th>Male</th>\n",
       "      <td>1068</td>\n",
       "      <td>1068</td>\n",
       "      <td>1068</td>\n",
       "      <td>1068</td>\n",
       "      <td>1068</td>\n",
       "      <td>1068</td>\n",
       "      <td>1068</td>\n",
       "    </tr>\n",
       "    <tr>\n",
       "      <th rowspan=\"2\" valign=\"top\">Northern Ireland</th>\n",
       "      <th>Female</th>\n",
       "      <td>157</td>\n",
       "      <td>157</td>\n",
       "      <td>157</td>\n",
       "      <td>157</td>\n",
       "      <td>157</td>\n",
       "      <td>157</td>\n",
       "      <td>157</td>\n",
       "    </tr>\n",
       "    <tr>\n",
       "      <th>Male</th>\n",
       "      <td>54</td>\n",
       "      <td>54</td>\n",
       "      <td>54</td>\n",
       "      <td>54</td>\n",
       "      <td>54</td>\n",
       "      <td>54</td>\n",
       "      <td>54</td>\n",
       "    </tr>\n",
       "    <tr>\n",
       "      <th rowspan=\"2\" valign=\"top\">Scotland</th>\n",
       "      <th>Female</th>\n",
       "      <td>319</td>\n",
       "      <td>319</td>\n",
       "      <td>319</td>\n",
       "      <td>319</td>\n",
       "      <td>319</td>\n",
       "      <td>319</td>\n",
       "      <td>319</td>\n",
       "    </tr>\n",
       "    <tr>\n",
       "      <th>Male</th>\n",
       "      <td>805</td>\n",
       "      <td>805</td>\n",
       "      <td>805</td>\n",
       "      <td>805</td>\n",
       "      <td>805</td>\n",
       "      <td>805</td>\n",
       "      <td>805</td>\n",
       "    </tr>\n",
       "    <tr>\n",
       "      <th rowspan=\"2\" valign=\"top\">Wales</th>\n",
       "      <th>Female</th>\n",
       "      <td>282</td>\n",
       "      <td>282</td>\n",
       "      <td>282</td>\n",
       "      <td>282</td>\n",
       "      <td>282</td>\n",
       "      <td>282</td>\n",
       "      <td>282</td>\n",
       "    </tr>\n",
       "    <tr>\n",
       "      <th>Male</th>\n",
       "      <td>238</td>\n",
       "      <td>238</td>\n",
       "      <td>238</td>\n",
       "      <td>238</td>\n",
       "      <td>238</td>\n",
       "      <td>238</td>\n",
       "      <td>238</td>\n",
       "    </tr>\n",
       "  </tbody>\n",
       "</table>\n",
       "</div>"
      ],
      "text/plain": [
       "                         Customer ID  Name  Surname   Age  Job Classification  \\\n",
       "Region           Gender                                                         \n",
       "England          Female         1091  1091     1091  1091                1091   \n",
       "                 Male           1068  1068     1068  1068                1068   \n",
       "Northern Ireland Female          157   157      157   157                 157   \n",
       "                 Male             54    54       54    54                  54   \n",
       "Scotland         Female          319   319      319   319                 319   \n",
       "                 Male            805   805      805   805                 805   \n",
       "Wales            Female          282   282      282   282                 282   \n",
       "                 Male            238   238      238   238                 238   \n",
       "\n",
       "                         Date Joined  Balance  \n",
       "Region           Gender                        \n",
       "England          Female         1091     1091  \n",
       "                 Male           1068     1068  \n",
       "Northern Ireland Female          157      157  \n",
       "                 Male             54       54  \n",
       "Scotland         Female          319      319  \n",
       "                 Male            805      805  \n",
       "Wales            Female          282      282  \n",
       "                 Male            238      238  "
      ]
     },
     "execution_count": 10,
     "metadata": {},
     "output_type": "execute_result"
    }
   ],
   "source": [
    "# Region Where Male customers are Dominating\n",
    "gr1 = bank_df.groupby(by=['Region','Gender'])\n",
    "gr1.count()"
   ]
  },
  {
   "cell_type": "code",
   "execution_count": 11,
   "id": "b591f7d2",
   "metadata": {},
   "outputs": [
    {
     "data": {
      "text/html": [
       "<div>\n",
       "<style scoped>\n",
       "    .dataframe tbody tr th:only-of-type {\n",
       "        vertical-align: middle;\n",
       "    }\n",
       "\n",
       "    .dataframe tbody tr th {\n",
       "        vertical-align: top;\n",
       "    }\n",
       "\n",
       "    .dataframe thead th {\n",
       "        text-align: right;\n",
       "    }\n",
       "</style>\n",
       "<table border=\"1\" class=\"dataframe\">\n",
       "  <thead>\n",
       "    <tr style=\"text-align: right;\">\n",
       "      <th></th>\n",
       "      <th></th>\n",
       "      <th>Customer ID</th>\n",
       "      <th>Name</th>\n",
       "      <th>Surname</th>\n",
       "      <th>Age</th>\n",
       "      <th>Region</th>\n",
       "      <th>Date Joined</th>\n",
       "      <th>Balance</th>\n",
       "    </tr>\n",
       "    <tr>\n",
       "      <th>Job Classification</th>\n",
       "      <th>Gender</th>\n",
       "      <th></th>\n",
       "      <th></th>\n",
       "      <th></th>\n",
       "      <th></th>\n",
       "      <th></th>\n",
       "      <th></th>\n",
       "      <th></th>\n",
       "    </tr>\n",
       "  </thead>\n",
       "  <tbody>\n",
       "    <tr>\n",
       "      <th rowspan=\"2\" valign=\"top\">Blue Collar</th>\n",
       "      <th>Female</th>\n",
       "      <td>255</td>\n",
       "      <td>255</td>\n",
       "      <td>255</td>\n",
       "      <td>255</td>\n",
       "      <td>255</td>\n",
       "      <td>255</td>\n",
       "      <td>255</td>\n",
       "    </tr>\n",
       "    <tr>\n",
       "      <th>Male</th>\n",
       "      <td>794</td>\n",
       "      <td>794</td>\n",
       "      <td>794</td>\n",
       "      <td>794</td>\n",
       "      <td>794</td>\n",
       "      <td>794</td>\n",
       "      <td>794</td>\n",
       "    </tr>\n",
       "    <tr>\n",
       "      <th rowspan=\"2\" valign=\"top\">Other</th>\n",
       "      <th>Female</th>\n",
       "      <td>584</td>\n",
       "      <td>584</td>\n",
       "      <td>584</td>\n",
       "      <td>584</td>\n",
       "      <td>584</td>\n",
       "      <td>584</td>\n",
       "      <td>584</td>\n",
       "    </tr>\n",
       "    <tr>\n",
       "      <th>Male</th>\n",
       "      <td>426</td>\n",
       "      <td>426</td>\n",
       "      <td>426</td>\n",
       "      <td>426</td>\n",
       "      <td>426</td>\n",
       "      <td>426</td>\n",
       "      <td>426</td>\n",
       "    </tr>\n",
       "    <tr>\n",
       "      <th rowspan=\"2\" valign=\"top\">White Collar</th>\n",
       "      <th>Female</th>\n",
       "      <td>1010</td>\n",
       "      <td>1010</td>\n",
       "      <td>1010</td>\n",
       "      <td>1010</td>\n",
       "      <td>1010</td>\n",
       "      <td>1010</td>\n",
       "      <td>1010</td>\n",
       "    </tr>\n",
       "    <tr>\n",
       "      <th>Male</th>\n",
       "      <td>945</td>\n",
       "      <td>945</td>\n",
       "      <td>945</td>\n",
       "      <td>945</td>\n",
       "      <td>945</td>\n",
       "      <td>945</td>\n",
       "      <td>945</td>\n",
       "    </tr>\n",
       "  </tbody>\n",
       "</table>\n",
       "</div>"
      ],
      "text/plain": [
       "                           Customer ID  Name  Surname   Age  Region  \\\n",
       "Job Classification Gender                                             \n",
       "Blue Collar        Female          255   255      255   255     255   \n",
       "                   Male            794   794      794   794     794   \n",
       "Other              Female          584   584      584   584     584   \n",
       "                   Male            426   426      426   426     426   \n",
       "White Collar       Female         1010  1010     1010  1010    1010   \n",
       "                   Male            945   945      945   945     945   \n",
       "\n",
       "                           Date Joined  Balance  \n",
       "Job Classification Gender                        \n",
       "Blue Collar        Female          255      255  \n",
       "                   Male            794      794  \n",
       "Other              Female          584      584  \n",
       "                   Male            426      426  \n",
       "White Collar       Female         1010     1010  \n",
       "                   Male            945      945  "
      ]
     },
     "execution_count": 11,
     "metadata": {},
     "output_type": "execute_result"
    }
   ],
   "source": [
    "# Job Where Female customers are Dominating\n",
    "gr1 = bank_df.groupby(by=['Job Classification','Gender'])\n",
    "gr1.count()"
   ]
  },
  {
   "cell_type": "code",
   "execution_count": 63,
   "id": "81e580d2",
   "metadata": {},
   "outputs": [
    {
     "data": {
      "text/plain": [
       "61"
      ]
     },
     "execution_count": 63,
     "metadata": {},
     "output_type": "execute_result"
    }
   ],
   "source": [
    "# Maximum Age In the Region\n",
    "eng = bank_df[bank_df['Region']=='England']\n",
    "eng['Age'].max()"
   ]
  },
  {
   "cell_type": "code",
   "execution_count": 68,
   "id": "538becbf",
   "metadata": {},
   "outputs": [
    {
     "data": {
      "text/plain": [
       "61"
      ]
     },
     "execution_count": 68,
     "metadata": {},
     "output_type": "execute_result"
    }
   ],
   "source": [
    "eng = bank_df[bank_df['Region']=='Northern Ireland']\n",
    "eng['Age'].max()"
   ]
  },
  {
   "cell_type": "code",
   "execution_count": 69,
   "id": "8c9b52a0",
   "metadata": {},
   "outputs": [
    {
     "data": {
      "text/plain": [
       "63"
      ]
     },
     "execution_count": 69,
     "metadata": {},
     "output_type": "execute_result"
    }
   ],
   "source": [
    "eng = bank_df[bank_df['Region']=='Wales']\n",
    "eng['Age'].max()"
   ]
  },
  {
   "cell_type": "code",
   "execution_count": 71,
   "id": "aa0f9280",
   "metadata": {},
   "outputs": [
    {
     "data": {
      "text/plain": [
       "64"
      ]
     },
     "execution_count": 71,
     "metadata": {},
     "output_type": "execute_result"
    }
   ],
   "source": [
    "eng = bank_df[bank_df['Region']=='Scotland']\n",
    "eng['Age'].max()"
   ]
  },
  {
   "cell_type": "code",
   "execution_count": 72,
   "id": "4be8879d",
   "metadata": {},
   "outputs": [
    {
     "data": {
      "text/plain": [
       "18"
      ]
     },
     "execution_count": 72,
     "metadata": {},
     "output_type": "execute_result"
    }
   ],
   "source": [
    "# Maximum Age In the Region\n",
    "eng = bank_df[bank_df['Region']=='England']\n",
    "eng['Age'].min()"
   ]
  },
  {
   "cell_type": "code",
   "execution_count": 73,
   "id": "8128bfb3",
   "metadata": {},
   "outputs": [
    {
     "data": {
      "text/plain": [
       "15"
      ]
     },
     "execution_count": 73,
     "metadata": {},
     "output_type": "execute_result"
    }
   ],
   "source": [
    "eng = bank_df[bank_df['Region']=='Northern Ireland']\n",
    "eng['Age'].min()"
   ]
  },
  {
   "cell_type": "code",
   "execution_count": 74,
   "id": "9e610076",
   "metadata": {},
   "outputs": [
    {
     "data": {
      "text/plain": [
       "18"
      ]
     },
     "execution_count": 74,
     "metadata": {},
     "output_type": "execute_result"
    }
   ],
   "source": [
    "eng = bank_df[bank_df['Region']=='Wales']\n",
    "eng['Age'].min()"
   ]
  },
  {
   "cell_type": "code",
   "execution_count": 75,
   "id": "440a32c0",
   "metadata": {},
   "outputs": [
    {
     "data": {
      "text/plain": [
       "18"
      ]
     },
     "execution_count": 75,
     "metadata": {},
     "output_type": "execute_result"
    }
   ],
   "source": [
    "eng = bank_df[bank_df['Region']=='Scotland']\n",
    "eng['Age'].min()"
   ]
  },
  {
   "cell_type": "code",
   "execution_count": 77,
   "id": "c229b80b",
   "metadata": {},
   "outputs": [
    {
     "data": {
      "text/plain": [
       "64"
      ]
     },
     "execution_count": 77,
     "metadata": {},
     "output_type": "execute_result"
    }
   ],
   "source": [
    "# Maximum Age on the Basis of Gender\n",
    "\n",
    "max_age_m = bank_df[bank_df['Gender']=='Female']\n",
    "max_age_m['Age'].max()"
   ]
  },
  {
   "cell_type": "code",
   "execution_count": 79,
   "id": "e66efc4d",
   "metadata": {},
   "outputs": [
    {
     "data": {
      "text/plain": [
       "64"
      ]
     },
     "execution_count": 79,
     "metadata": {},
     "output_type": "execute_result"
    }
   ],
   "source": [
    "# Maximum Age on the Basis of Gender\n",
    "\n",
    "max_age_f = bank_df[bank_df['Gender']=='Male']\n",
    "max_age_f['Age'].max()"
   ]
  },
  {
   "cell_type": "code",
   "execution_count": 80,
   "id": "68346e8a",
   "metadata": {},
   "outputs": [
    {
     "data": {
      "text/plain": [
       "15"
      ]
     },
     "execution_count": 80,
     "metadata": {},
     "output_type": "execute_result"
    }
   ],
   "source": [
    "# Minimum Age on the Basis of Gender\n",
    "\n",
    "max_age_m = bank_df[bank_df['Gender']=='Female']\n",
    "max_age_m['Age'].min()"
   ]
  },
  {
   "cell_type": "code",
   "execution_count": 81,
   "id": "f14feebc",
   "metadata": {},
   "outputs": [
    {
     "data": {
      "text/plain": [
       "17"
      ]
     },
     "execution_count": 81,
     "metadata": {},
     "output_type": "execute_result"
    }
   ],
   "source": [
    "# Minimum Age on the Basis of Gender\n",
    "\n",
    "max_age_f = bank_df[bank_df['Gender']=='Male']\n",
    "max_age_f['Age'].min()"
   ]
  },
  {
   "cell_type": "code",
   "execution_count": 84,
   "id": "1ac7f4da",
   "metadata": {},
   "outputs": [
    {
     "data": {
      "text/plain": [
       "61"
      ]
     },
     "execution_count": 84,
     "metadata": {},
     "output_type": "execute_result"
    }
   ],
   "source": [
    "# Maximum Age on the Basis of Job\n",
    "\n",
    "max_age_f = bank_df[bank_df['Job Classification']=='White Collar']\n",
    "max_age_f['Age'].max()"
   ]
  },
  {
   "cell_type": "code",
   "execution_count": 85,
   "id": "532ea51f",
   "metadata": {},
   "outputs": [
    {
     "data": {
      "text/plain": [
       "64"
      ]
     },
     "execution_count": 85,
     "metadata": {},
     "output_type": "execute_result"
    }
   ],
   "source": [
    "# Maximum Age on the Basis of Job\n",
    "\n",
    "max_age_f = bank_df[bank_df['Job Classification']=='Blue Collar']\n",
    "max_age_f['Age'].max()\n"
   ]
  },
  {
   "cell_type": "code",
   "execution_count": 86,
   "id": "5f3cead2",
   "metadata": {},
   "outputs": [
    {
     "data": {
      "text/plain": [
       "64"
      ]
     },
     "execution_count": 86,
     "metadata": {},
     "output_type": "execute_result"
    }
   ],
   "source": [
    "# Maximum Age on the Basis of Job\n",
    "\n",
    "max_age_f = bank_df[bank_df['Job Classification']=='Other']\n",
    "max_age_f['Age'].max()\n"
   ]
  },
  {
   "cell_type": "code",
   "execution_count": 87,
   "id": "4e1531b2",
   "metadata": {},
   "outputs": [
    {
     "data": {
      "text/plain": [
       "15"
      ]
     },
     "execution_count": 87,
     "metadata": {},
     "output_type": "execute_result"
    }
   ],
   "source": [
    "# Minimum Age on the Basis of Job\n",
    "\n",
    "max_age_f = bank_df[bank_df['Job Classification']=='White Collar']\n",
    "max_age_f['Age'].min()"
   ]
  },
  {
   "cell_type": "code",
   "execution_count": 88,
   "id": "8ba3b30e",
   "metadata": {},
   "outputs": [
    {
     "data": {
      "text/plain": [
       "17"
      ]
     },
     "execution_count": 88,
     "metadata": {},
     "output_type": "execute_result"
    }
   ],
   "source": [
    "# Minimum Age on the Basis of Job\n",
    "\n",
    "max_age_f = bank_df[bank_df['Job Classification']=='Blue Collar']\n",
    "max_age_f['Age'].min()"
   ]
  },
  {
   "cell_type": "code",
   "execution_count": 89,
   "id": "f57561c2",
   "metadata": {},
   "outputs": [
    {
     "data": {
      "text/plain": [
       "17"
      ]
     },
     "execution_count": 89,
     "metadata": {},
     "output_type": "execute_result"
    }
   ],
   "source": [
    "# Minimum Age on the Basis of Job\n",
    "\n",
    "max_age_f = bank_df[bank_df['Job Classification']=='Blue Collar']\n",
    "max_age_f['Age'].min()\n"
   ]
  },
  {
   "cell_type": "code",
   "execution_count": 100,
   "id": "7e355709",
   "metadata": {},
   "outputs": [
    {
     "data": {
      "text/html": [
       "<div>\n",
       "<style scoped>\n",
       "    .dataframe tbody tr th:only-of-type {\n",
       "        vertical-align: middle;\n",
       "    }\n",
       "\n",
       "    .dataframe tbody tr th {\n",
       "        vertical-align: top;\n",
       "    }\n",
       "\n",
       "    .dataframe thead th {\n",
       "        text-align: right;\n",
       "    }\n",
       "</style>\n",
       "<table border=\"1\" class=\"dataframe\">\n",
       "  <thead>\n",
       "    <tr style=\"text-align: right;\">\n",
       "      <th></th>\n",
       "      <th>Customer ID</th>\n",
       "      <th>Name</th>\n",
       "    </tr>\n",
       "  </thead>\n",
       "  <tbody>\n",
       "    <tr>\n",
       "      <th>1306</th>\n",
       "      <td>100001307</td>\n",
       "      <td>Dorothy</td>\n",
       "    </tr>\n",
       "  </tbody>\n",
       "</table>\n",
       "</div>"
      ],
      "text/plain": [
       "      Customer ID     Name\n",
       "1306    100001307  Dorothy"
      ]
     },
     "execution_count": 100,
     "metadata": {},
     "output_type": "execute_result"
    }
   ],
   "source": [
    "# Highest Balance Customer\n",
    "bank_df.loc[bank_df['Balance'].max()==bank_df['Balance'],['Customer ID','Name']]"
   ]
  },
  {
   "cell_type": "code",
   "execution_count": 101,
   "id": "066569fd",
   "metadata": {},
   "outputs": [
    {
     "data": {
      "text/html": [
       "<div>\n",
       "<style scoped>\n",
       "    .dataframe tbody tr th:only-of-type {\n",
       "        vertical-align: middle;\n",
       "    }\n",
       "\n",
       "    .dataframe tbody tr th {\n",
       "        vertical-align: top;\n",
       "    }\n",
       "\n",
       "    .dataframe thead th {\n",
       "        text-align: right;\n",
       "    }\n",
       "</style>\n",
       "<table border=\"1\" class=\"dataframe\">\n",
       "  <thead>\n",
       "    <tr style=\"text-align: right;\">\n",
       "      <th></th>\n",
       "      <th>Customer ID</th>\n",
       "      <th>Name</th>\n",
       "    </tr>\n",
       "  </thead>\n",
       "  <tbody>\n",
       "    <tr>\n",
       "      <th>1319</th>\n",
       "      <td>100001320</td>\n",
       "      <td>Jane</td>\n",
       "    </tr>\n",
       "  </tbody>\n",
       "</table>\n",
       "</div>"
      ],
      "text/plain": [
       "      Customer ID  Name\n",
       "1319    100001320  Jane"
      ]
     },
     "execution_count": 101,
     "metadata": {},
     "output_type": "execute_result"
    }
   ],
   "source": [
    "# Lowest Balance Customer\n",
    "bank_df.loc[bank_df['Balance'].min()==bank_df['Balance'],['Customer ID','Name']]"
   ]
  },
  {
   "cell_type": "code",
   "execution_count": 105,
   "id": "2f701fb7",
   "metadata": {},
   "outputs": [
    {
     "data": {
      "text/html": [
       "<div>\n",
       "<style scoped>\n",
       "    .dataframe tbody tr th:only-of-type {\n",
       "        vertical-align: middle;\n",
       "    }\n",
       "\n",
       "    .dataframe tbody tr th {\n",
       "        vertical-align: top;\n",
       "    }\n",
       "\n",
       "    .dataframe thead th {\n",
       "        text-align: right;\n",
       "    }\n",
       "</style>\n",
       "<table border=\"1\" class=\"dataframe\">\n",
       "  <thead>\n",
       "    <tr style=\"text-align: right;\">\n",
       "      <th></th>\n",
       "      <th>Region</th>\n",
       "    </tr>\n",
       "  </thead>\n",
       "  <tbody>\n",
       "    <tr>\n",
       "      <th>1</th>\n",
       "      <td>Northern Ireland</td>\n",
       "    </tr>\n",
       "    <tr>\n",
       "      <th>4</th>\n",
       "      <td>England</td>\n",
       "    </tr>\n",
       "    <tr>\n",
       "      <th>5</th>\n",
       "      <td>Wales</td>\n",
       "    </tr>\n",
       "    <tr>\n",
       "      <th>6</th>\n",
       "      <td>England</td>\n",
       "    </tr>\n",
       "    <tr>\n",
       "      <th>18</th>\n",
       "      <td>England</td>\n",
       "    </tr>\n",
       "    <tr>\n",
       "      <th>...</th>\n",
       "      <td>...</td>\n",
       "    </tr>\n",
       "    <tr>\n",
       "      <th>4006</th>\n",
       "      <td>England</td>\n",
       "    </tr>\n",
       "    <tr>\n",
       "      <th>4007</th>\n",
       "      <td>England</td>\n",
       "    </tr>\n",
       "    <tr>\n",
       "      <th>4010</th>\n",
       "      <td>Scotland</td>\n",
       "    </tr>\n",
       "    <tr>\n",
       "      <th>4012</th>\n",
       "      <td>Scotland</td>\n",
       "    </tr>\n",
       "    <tr>\n",
       "      <th>4013</th>\n",
       "      <td>Wales</td>\n",
       "    </tr>\n",
       "  </tbody>\n",
       "</table>\n",
       "<p>1049 rows × 1 columns</p>\n",
       "</div>"
      ],
      "text/plain": [
       "                Region\n",
       "1     Northern Ireland\n",
       "4              England\n",
       "5                Wales\n",
       "6              England\n",
       "18             England\n",
       "...                ...\n",
       "4006           England\n",
       "4007           England\n",
       "4010          Scotland\n",
       "4012          Scotland\n",
       "4013             Wales\n",
       "\n",
       "[1049 rows x 1 columns]"
      ]
     },
     "execution_count": 105,
     "metadata": {},
     "output_type": "execute_result"
    }
   ],
   "source": [
    "# Lowest Balance Customer\n",
    "bank_df.loc[bank_df['Job Classification']=='Blue Collar',['Region']]"
   ]
  },
  {
   "cell_type": "code",
   "execution_count": 108,
   "id": "5cfe14ef",
   "metadata": {},
   "outputs": [
    {
     "data": {
      "text/html": [
       "<div>\n",
       "<style scoped>\n",
       "    .dataframe tbody tr th:only-of-type {\n",
       "        vertical-align: middle;\n",
       "    }\n",
       "\n",
       "    .dataframe tbody tr th {\n",
       "        vertical-align: top;\n",
       "    }\n",
       "\n",
       "    .dataframe thead th {\n",
       "        text-align: right;\n",
       "    }\n",
       "</style>\n",
       "<table border=\"1\" class=\"dataframe\">\n",
       "  <thead>\n",
       "    <tr style=\"text-align: right;\">\n",
       "      <th></th>\n",
       "      <th>Region</th>\n",
       "      <th>Balance</th>\n",
       "      <th>Date Joined</th>\n",
       "    </tr>\n",
       "  </thead>\n",
       "  <tbody>\n",
       "    <tr>\n",
       "      <th>1306</th>\n",
       "      <td>England</td>\n",
       "      <td>183467.7</td>\n",
       "      <td>22.Jul.15</td>\n",
       "    </tr>\n",
       "  </tbody>\n",
       "</table>\n",
       "</div>"
      ],
      "text/plain": [
       "       Region   Balance Date Joined\n",
       "1306  England  183467.7   22.Jul.15"
      ]
     },
     "execution_count": 108,
     "metadata": {},
     "output_type": "execute_result"
    }
   ],
   "source": [
    "eng_reg = bank_df[bank_df['Region']=='England']\n",
    "eng_reg.loc[eng_reg['Balance'].max()==eng_reg['Balance'],['Region','Balance','Date Joined']]\n"
   ]
  },
  {
   "cell_type": "code",
   "execution_count": 110,
   "id": "78f9f4a2",
   "metadata": {},
   "outputs": [
    {
     "data": {
      "text/html": [
       "<div>\n",
       "<style scoped>\n",
       "    .dataframe tbody tr th:only-of-type {\n",
       "        vertical-align: middle;\n",
       "    }\n",
       "\n",
       "    .dataframe tbody tr th {\n",
       "        vertical-align: top;\n",
       "    }\n",
       "\n",
       "    .dataframe thead th {\n",
       "        text-align: right;\n",
       "    }\n",
       "</style>\n",
       "<table border=\"1\" class=\"dataframe\">\n",
       "  <thead>\n",
       "    <tr style=\"text-align: right;\">\n",
       "      <th></th>\n",
       "      <th>Customer ID</th>\n",
       "      <th>Name</th>\n",
       "    </tr>\n",
       "  </thead>\n",
       "  <tbody>\n",
       "    <tr>\n",
       "      <th>3</th>\n",
       "      <td>300000004</td>\n",
       "      <td>Trevor</td>\n",
       "    </tr>\n",
       "    <tr>\n",
       "      <th>5</th>\n",
       "      <td>300000006</td>\n",
       "      <td>Ava</td>\n",
       "    </tr>\n",
       "    <tr>\n",
       "      <th>8</th>\n",
       "      <td>300000009</td>\n",
       "      <td>Ruth</td>\n",
       "    </tr>\n",
       "    <tr>\n",
       "      <th>14</th>\n",
       "      <td>300000015</td>\n",
       "      <td>Madeleine</td>\n",
       "    </tr>\n",
       "    <tr>\n",
       "      <th>20</th>\n",
       "      <td>300000021</td>\n",
       "      <td>Boris</td>\n",
       "    </tr>\n",
       "    <tr>\n",
       "      <th>...</th>\n",
       "      <td>...</td>\n",
       "      <td>...</td>\n",
       "    </tr>\n",
       "    <tr>\n",
       "      <th>3982</th>\n",
       "      <td>300003983</td>\n",
       "      <td>Bella</td>\n",
       "    </tr>\n",
       "    <tr>\n",
       "      <th>3999</th>\n",
       "      <td>300004000</td>\n",
       "      <td>Benjamin</td>\n",
       "    </tr>\n",
       "    <tr>\n",
       "      <th>4000</th>\n",
       "      <td>300004001</td>\n",
       "      <td>Gabrielle</td>\n",
       "    </tr>\n",
       "    <tr>\n",
       "      <th>4001</th>\n",
       "      <td>300004002</td>\n",
       "      <td>Austin</td>\n",
       "    </tr>\n",
       "    <tr>\n",
       "      <th>4013</th>\n",
       "      <td>300004014</td>\n",
       "      <td>Stephen</td>\n",
       "    </tr>\n",
       "  </tbody>\n",
       "</table>\n",
       "<p>520 rows × 2 columns</p>\n",
       "</div>"
      ],
      "text/plain": [
       "      Customer ID       Name\n",
       "3       300000004     Trevor\n",
       "5       300000006        Ava\n",
       "8       300000009       Ruth\n",
       "14      300000015  Madeleine\n",
       "20      300000021      Boris\n",
       "...           ...        ...\n",
       "3982    300003983      Bella\n",
       "3999    300004000   Benjamin\n",
       "4000    300004001  Gabrielle\n",
       "4001    300004002     Austin\n",
       "4013    300004014    Stephen\n",
       "\n",
       "[520 rows x 2 columns]"
      ]
     },
     "execution_count": 110,
     "metadata": {},
     "output_type": "execute_result"
    }
   ],
   "source": [
    "bank_df.loc[bank_df['Region']=='Wales',['Customer ID','Name']]"
   ]
  },
  {
   "cell_type": "code",
   "execution_count": 112,
   "id": "2fec272e",
   "metadata": {},
   "outputs": [
    {
     "data": {
      "text/plain": [
       "183467.7"
      ]
     },
     "execution_count": 112,
     "metadata": {},
     "output_type": "execute_result"
    }
   ],
   "source": [
    "# Highest Balance on the basis ogf Gender\n",
    "bal_f = bank_df.loc[bank_df['Gender']=='Female']\n",
    "bal_f['Balance'].max()"
   ]
  },
  {
   "cell_type": "code",
   "execution_count": 114,
   "id": "accdcca0",
   "metadata": {},
   "outputs": [
    {
     "data": {
      "text/plain": [
       "181680.99"
      ]
     },
     "execution_count": 114,
     "metadata": {},
     "output_type": "execute_result"
    }
   ],
   "source": [
    "# Highest Balance on the basis ogf Gender\n",
    "bal_m = bank_df.loc[bank_df['Gender']=='Male']\n",
    "bal_m['Balance'].max()"
   ]
  },
  {
   "cell_type": "code",
   "execution_count": 121,
   "id": "43e56c73",
   "metadata": {},
   "outputs": [
    {
     "data": {
      "text/plain": [
       "Customer ID           818\n",
       "Name                  818\n",
       "Surname               818\n",
       "Gender                818\n",
       "Age                   818\n",
       "Region                818\n",
       "Job Classification    818\n",
       "Date Joined           818\n",
       "Balance               818\n",
       "dtype: int64"
      ]
     },
     "execution_count": 121,
     "metadata": {},
     "output_type": "execute_result"
    }
   ],
   "source": [
    "# How many customers have age less than 34 and have white collor job\n",
    "age_white_collar = bank_df.loc[bank_df['Age']<34 ]\n",
    "age_white_collar[age_white_collar['Job Classification']=='White Collar'].count()"
   ]
  },
  {
   "cell_type": "code",
   "execution_count": 123,
   "id": "951f5a83",
   "metadata": {},
   "outputs": [
    {
     "data": {
      "text/plain": [
       "Customer ID           368\n",
       "Name                  368\n",
       "Surname               368\n",
       "Gender                368\n",
       "Age                   368\n",
       "Region                368\n",
       "Job Classification    368\n",
       "Date Joined           368\n",
       "Balance               368\n",
       "dtype: int64"
      ]
     },
     "execution_count": 123,
     "metadata": {},
     "output_type": "execute_result"
    }
   ],
   "source": [
    "# How many customers have age more than 46 and have white collor job\n",
    "age_blue_collar = bank_df.loc[bank_df['Age']>46 ]\n",
    "age_blue_collar[age_blue_collar['Job Classification']=='Blue Collar'].count()"
   ]
  },
  {
   "cell_type": "code",
   "execution_count": null,
   "id": "fffd4dbf",
   "metadata": {},
   "outputs": [],
   "source": []
  }
 ],
 "metadata": {
  "kernelspec": {
   "display_name": "Python 3 (ipykernel)",
   "language": "python",
   "name": "python3"
  },
  "language_info": {
   "codemirror_mode": {
    "name": "ipython",
    "version": 3
   },
   "file_extension": ".py",
   "mimetype": "text/x-python",
   "name": "python",
   "nbconvert_exporter": "python",
   "pygments_lexer": "ipython3",
   "version": "3.10.9"
  }
 },
 "nbformat": 4,
 "nbformat_minor": 5
}
